{
 "cells": [
  {
   "cell_type": "code",
   "execution_count": 1,
   "outputs": [],
   "source": [
    "import itertools\n",
    "import random\n",
    "from collections import Counter\n",
    "import joblib\n",
    "import pickle\n",
    "import pandas as pd\n",
    "import numpy as np\n",
    "import re\n",
    "from keras import Sequential\n",
    "from keras.layers import Embedding, Conv1D, MaxPooling1D, Flatten, Dense, Bidirectional, LSTM\n",
    "from keras.utils.np_utils import to_categorical\n",
    "from nltk.corpus import stopwords\n",
    "from parsivar import Normalizer\n",
    "import emoji\n",
    "import emojies\n",
    "import matplotlib.pyplot as plt\n",
    "from sklearn.model_selection import train_test_split\n",
    "from keras.preprocessing.text import Tokenizer\n",
    "from keras.preprocessing.sequence import pad_sequences\n",
    "from sklearn.preprocessing import LabelEncoder"
   ],
   "metadata": {
    "collapsed": false,
    "pycharm": {
     "name": "#%%\n"
    }
   }
  },
  {
   "cell_type": "code",
   "execution_count": 2,
   "outputs": [],
   "source": [
    "class CleanText:\n",
    "    def __init__(self, data_frame, column_name):\n",
    "        self.cln_list = data_frame[column_name].tolist()\n",
    "    def __new__(cls, data_frame, column_name,*args, **kwargs):\n",
    "        data_frame[column_name] = data_frame[column_name].apply(lambda x: x[:400])\n",
    "        return super().__new__(cls,*args, **kwargs)\n",
    "    def clean_punctual(self):\n",
    "        tmp_lst = list(map(lambda x: re.sub(r'https?:\\S*', ' ', x), self.cln_list))\n",
    "        tmp_lst = list(map(lambda x: re.sub(r'@[A-Za-z0-9]\\S+', ' ', x), tmp_lst))\n",
    "        tmp_lst = list(map(lambda x: re.sub(r'[0-9]\\S+', ' ', x), tmp_lst))\n",
    "        self.cln_list = list(map(lambda x: re.sub(r'#|_|:|/d+', ' ', x), tmp_lst))\n",
    "        return self.cln_list\n",
    "    def normalize_text(self):\n",
    "        normalizer = Normalizer(pinglish_conversion_needed=True)\n",
    "        cln_list = list(map(lambda x: normalizer.normalize(x), self.cln_list))\n",
    "        self.cln_list = list(map(lambda x: ''.join(ch for ch, _ in itertools.groupby(x)), cln_list))\n",
    "        return self.cln_list\n",
    "    def remove_stop_words(self):\n",
    "        stop_words = set(stopwords.words('RD_persian_01'))\n",
    "        self.cln_list = list(map(lambda x: ' '.join([w for w in x.split() if not w in stop_words]), self.cln_list))\n",
    "        return self.cln_list\n",
    "    def extract_emojis(self):\n",
    "        self.cln_list = list(map(lambda x: ''.join((' '+c+' ') if c in emoji.UNICODE_EMOJI['en'] else c for c in x), self.cln_list))\n",
    "        return self.cln_list\n",
    "    def convert_emojies(self):\n",
    "        self.cln_list = list(map(lambda x: emojies.replace(x), self.cln_list))\n",
    "        return self.cln_list\n",
    "    def frequency_words(self):\n",
    "        freq = dict(Counter(\" \".join(self.cln_list).split()))\n",
    "        sort_orders = sorted(freq.items(), key=lambda x: x[1], reverse=True)\n",
    "        sort_orders = sort_orders[:4000]\n",
    "        # print(sort_orders)\n",
    "        print(len(sort_orders))\n",
    "        most_common_word = [i[0] for i in sort_orders]\n",
    "        most_common_word = set(most_common_word)\n",
    "        # print(most_common_word)\n",
    "        print(len(most_common_word))\n",
    "        self.cln_list = list(map(lambda x: ' '.join([w for w in x.split() if w in most_common_word]), self.cln_list))\n",
    "        return self.cln_list\n"
   ],
   "metadata": {
    "collapsed": false,
    "pycharm": {
     "name": "#%%\n"
    }
   }
  },
  {
   "cell_type": "code",
   "execution_count": 3,
   "outputs": [],
   "source": [
    "class EncodeText:\n",
    "    def __init__(self,train_text):\n",
    "        self.train_text = train_text\n",
    "    def create_tokenizer(self):\n",
    "        tokenizer = Tokenizer()\n",
    "        tokenizer.fit_on_texts(self.train_text)\n",
    "        return tokenizer\n",
    "    def encode_text(self,tokenizer, input_list, max_length):\n",
    "        # integer encode\n",
    "        encoded = tokenizer.texts_to_sequences(input_list)\n",
    "        # pad encoded sequences\n",
    "        padded = pad_sequences(encoded, maxlen=max_length, padding='post')\n",
    "        return padded\n",
    "    def label_encoder(self, tag):\n",
    "        le = LabelEncoder()\n",
    "        tmp_tag = le.fit_transform(tag)\n",
    "        encode_tag = to_categorical(np.array(tmp_tag))\n",
    "        return encode_tag"
   ],
   "metadata": {
    "collapsed": false,
    "pycharm": {
     "name": "#%%\n"
    }
   }
  },
  {
   "cell_type": "code",
   "execution_count": 4,
   "outputs": [],
   "source": [
    "# data_df = pd.read_excel('dataset.2.0.0.xlsx', index_col= False)\n",
    "# fig, ax = plt.subplots()\n",
    "# ax.hist(data_df['احساس'])\n",
    "# plt.show()"
   ],
   "metadata": {
    "collapsed": false,
    "pycharm": {
     "name": "#%%\n"
    }
   }
  },
  {
   "cell_type": "code",
   "execution_count": 5,
   "outputs": [
    {
     "data": {
      "text/plain": "<Figure size 432x288 with 1 Axes>",
      "image/png": "[encoded data removed]"
     },
     "metadata": {
      "needs_background": "light"
     },
     "output_type": "display_data"
    }
   ],
   "source": [
    "data_df = pd.read_csv('comp_dataset2.csv', index_col= False)\n",
    "fig, ax = plt.subplots()\n",
    "ax.hist(data_df['tag'])\n",
    "plt.show()"
   ],
   "metadata": {
    "collapsed": false,
    "pycharm": {
     "name": "#%%\n"
    }
   }
  },
  {
   "cell_type": "code",
   "execution_count": 6,
   "outputs": [
    {
     "name": "stdout",
     "output_type": "stream",
     "text": [
      "همسر من تو سکو نفتی کار می کنه ماموریت طولانی مدت می ره همه کارا رو دوش منه الان که مهد کودک تعطیل شده زندگی مثل جهنم شده\n",
      "همسر من تو سکو نفتی کار می کنه ماموریت طولانی مدت می ره همه کارا رو دوش منه الان که مهد کودک تعطیل شده زندگی مثل جهنم شده\n",
      "همسر من تو سکو نفتی کار می کنه ماموریت طولانی مدت می ره همه کارا رو دوش منه الان که مهد کودک تعطیل شده زندگی مثل جهنم شده\n",
      "همسر من تو سکو نفتی کار می‌کنه ماموریت طولانی مدت می‌ره همه کارا رو دوش منه الان که مهد کودک تعطیل‌شده‌زندگی مثل جهنم شده\n",
      "همسر سکو نفتی می‌کنه ماموریت طولانی مدت می‌ره کارا منه الان مهد کودک تعطیل‌شده‌زندگی جهنم شده\n",
      "4000\n",
      "4000\n",
      "همسر می‌کنه طولانی مدت کارا منه الان کودک جهنم شده\n"
     ]
    }
   ],
   "source": [
    "# call_cleantext = CleanText(data_df, 'متن توییت')\n",
    "# call_cleantext = CleanText(data_df, 'Text')\n",
    "call_cleantext = CleanText(data_df, 'caption')\n",
    "get_pun_list = call_cleantext.clean_punctual()\n",
    "print(get_pun_list[64])\n",
    "get_ex_emoji = call_cleantext.extract_emojis()\n",
    "print(get_ex_emoji[64])\n",
    "get_emoji_list = call_cleantext.convert_emojies()\n",
    "print(get_emoji_list[64])\n",
    "get_norm_list = call_cleantext.normalize_text()\n",
    "print(get_norm_list[64])\n",
    "get_rm_sw_list = call_cleantext.remove_stop_words()\n",
    "print(get_rm_sw_list[64])\n",
    "get_most_com_list = call_cleantext.frequency_words()\n",
    "print(get_most_com_list[64])"
   ],
   "metadata": {
    "collapsed": false,
    "pycharm": {
     "name": "#%%\n"
    }
   }
  },
  {
   "cell_type": "code",
   "execution_count": 7,
   "outputs": [
    {
     "name": "stdout",
     "output_type": "stream",
     "text": [
      "4000\n",
      "4000\n"
     ]
    }
   ],
   "source": [
    "get_most_com_list = call_cleantext.frequency_words()"
   ],
   "metadata": {
    "collapsed": false,
    "pycharm": {
     "name": "#%%\n"
    }
   }
  },
  {
   "cell_type": "code",
   "execution_count": 8,
   "outputs": [],
   "source": [
    "# init_List_prepared = list(map(lambda x: [x[0], x[1]], zip(get_most_com_list, data_df['احساس'])))\n",
    "init_List_prepared = list(map(lambda x: [x[0], x[1]], zip(get_most_com_list, data_df['tag'])))\n",
    "init_List_prepared = list(filter(lambda x: len(x[0])>1, init_List_prepared))\n",
    "random.shuffle(init_List_prepared)\n",
    "\n",
    "var1 = list(filter(lambda x: x[1]=='شادی', init_List_prepared))\n",
    "var2 = list(filter(lambda x: x[1]=='خشم', init_List_prepared))\n",
    "var3 = list(filter(lambda x: x[1]=='غم', init_List_prepared))\n",
    "var4 = list(filter(lambda x: x[1]=='خنثی', init_List_prepared))\n",
    "var5 = list(filter(lambda x: x[1]=='امید', init_List_prepared))\n",
    "var6 = list(filter(lambda x: x[1]=='ترس', init_List_prepared))\n",
    "var7 = list(filter(lambda x: x[1]=='تعجب', init_List_prepared))\n",
    "var8 = list(filter(lambda x: x[1]=='تحسین یا اعتماد', init_List_prepared))\n",
    "\n",
    "# List_prepared = var1[:1500]+var2[:1500]+var3[:1000]+var4[:1000]+var5[:1200]+var6[:700]+var7[:500]+var8[:1500]\n",
    "# List_prepared = var1[:500]+var2[:500]+var3[:500]+var4[:500]+var5[:500]+var6[:500]+var7[:500]+var8[:500]\n",
    "# List_prepared = var1[:2700]+var2[:2700]\n",
    "# List_prepared = var1+var2+var5+var8\n",
    "List_prepared = var1+var2+var3+var5\n",
    "\n",
    "# List_prepared = init_List_prepared"
   ],
   "metadata": {
    "collapsed": false,
    "pycharm": {
     "name": "#%%\n"
    }
   }
  },
  {
   "cell_type": "code",
   "execution_count": 9,
   "outputs": [],
   "source": [
    "text, tag = zip(*List_prepared)\n",
    "train_text, test_text, train_tag, test_tag = train_test_split(text, tag, test_size=0.2)"
   ],
   "metadata": {
    "collapsed": false,
    "pycharm": {
     "name": "#%% train & test split\n"
    }
   }
  },
  {
   "cell_type": "code",
   "execution_count": 10,
   "outputs": [
    {
     "name": "stdout",
     "output_type": "stream",
     "text": [
      "3731\n"
     ]
    }
   ],
   "source": [
    "call_encodetext = EncodeText(train_text)\n",
    "tokenizer = call_encodetext.create_tokenizer()\n",
    "vocab_size = len(tokenizer.word_index) + 1\n",
    "print(vocab_size)\n",
    "max_len = 100\n",
    "encode_train_text = call_encodetext.encode_text(tokenizer, train_text, max_len)\n",
    "encode_test_text = call_encodetext.encode_text(tokenizer, test_text, max_len)\n",
    "encode_train_tag = call_encodetext.label_encoder(train_tag)\n",
    "encode_test_tag = call_encodetext.label_encoder(test_tag)\n",
    "num_cat = encode_train_tag.shape[1]"
   ],
   "metadata": {
    "collapsed": false,
    "pycharm": {
     "name": "#%%\n"
    }
   }
  },
  {
   "cell_type": "code",
   "execution_count": 11,
   "outputs": [
    {
     "name": "stdout",
     "output_type": "stream",
     "text": [
      "Model: \"sequential\"\n",
      "_________________________________________________________________\n",
      " Layer (type)                Output Shape              Param #   \n",
      "=================================================================\n",
      " embedding (Embedding)       (None, 100, 50)           186550    \n",
      "                                                                 \n",
      " bidirectional (Bidirectiona  (None, 200)              120800    \n",
      " l)                                                              \n",
      "                                                                 \n",
      " dense (Dense)               (None, 4)                 804       \n",
      "                                                                 \n",
      "=================================================================\n",
      "Total params: 308,154\n",
      "Trainable params: 308,154\n",
      "Non-trainable params: 0\n",
      "_________________________________________________________________\n",
      "None\n"
     ]
    }
   ],
   "source": [
    "# single Bidir layer\n",
    "model = Sequential()\n",
    "model.add(Embedding(vocab_size, 50, input_length=max_len))\n",
    "model.add(Bidirectional(LSTM(100, dropout=0.2, recurrent_dropout=0.3)))\n",
    "# model.add(Bidirectional(LSTM(100, dropout=0.2, recurrent_dropout=0.3)))\n",
    "model.add(Dense(num_cat, activation='softmax'))\n",
    "print(model.summary())"
   ],
   "metadata": {
    "collapsed": false,
    "pycharm": {
     "name": "#%%\n"
    }
   }
  },
  {
   "cell_type": "code",
   "execution_count": 12,
   "outputs": [
    {
     "name": "stdout",
     "output_type": "stream",
     "text": [
      "Epoch 1/100\n",
      "209/209 - 29s - loss: 1.0318 - accuracy: 0.5677 - 29s/epoch - 138ms/step\n",
      "Epoch 2/100\n",
      "209/209 - 25s - loss: 0.6348 - accuracy: 0.7640 - 25s/epoch - 119ms/step\n",
      "Epoch 3/100\n",
      "209/209 - 25s - loss: 0.4480 - accuracy: 0.8377 - 25s/epoch - 119ms/step\n",
      "Epoch 4/100\n",
      "209/209 - 25s - loss: 0.3426 - accuracy: 0.8818 - 25s/epoch - 119ms/step\n",
      "Epoch 5/100\n",
      "209/209 - 25s - loss: 0.2769 - accuracy: 0.9020 - 25s/epoch - 119ms/step\n",
      "Epoch 6/100\n",
      "209/209 - 25s - loss: 0.2295 - accuracy: 0.9219 - 25s/epoch - 119ms/step\n",
      "Epoch 7/100\n",
      "209/209 - 25s - loss: 0.2120 - accuracy: 0.9278 - 25s/epoch - 120ms/step\n",
      "Epoch 8/100\n",
      "209/209 - 25s - loss: 0.1759 - accuracy: 0.9428 - 25s/epoch - 119ms/step\n",
      "Epoch 9/100\n",
      "209/209 - 25s - loss: 0.1582 - accuracy: 0.9462 - 25s/epoch - 120ms/step\n",
      "Epoch 10/100\n",
      "209/209 - 26s - loss: 0.1491 - accuracy: 0.9513 - 26s/epoch - 124ms/step\n",
      "Epoch 11/100\n",
      "209/209 - 26s - loss: 0.1412 - accuracy: 0.9520 - 26s/epoch - 123ms/step\n",
      "Epoch 12/100\n",
      "209/209 - 25s - loss: 0.1275 - accuracy: 0.9585 - 25s/epoch - 120ms/step\n",
      "Epoch 13/100\n",
      "209/209 - 25s - loss: 0.1187 - accuracy: 0.9627 - 25s/epoch - 121ms/step\n",
      "Epoch 14/100\n",
      "209/209 - 25s - loss: 0.1112 - accuracy: 0.9630 - 25s/epoch - 120ms/step\n",
      "Epoch 15/100\n",
      "209/209 - 25s - loss: 0.1032 - accuracy: 0.9658 - 25s/epoch - 120ms/step\n",
      "Epoch 16/100\n",
      "209/209 - 25s - loss: 0.0893 - accuracy: 0.9709 - 25s/epoch - 120ms/step\n",
      "Epoch 17/100\n",
      "209/209 - 25s - loss: 0.0883 - accuracy: 0.9708 - 25s/epoch - 119ms/step\n",
      "Epoch 18/100\n",
      "209/209 - 25s - loss: 0.0816 - accuracy: 0.9727 - 25s/epoch - 119ms/step\n",
      "Epoch 19/100\n",
      "209/209 - 25s - loss: 0.0782 - accuracy: 0.9729 - 25s/epoch - 120ms/step\n",
      "Epoch 20/100\n",
      "209/209 - 25s - loss: 0.0788 - accuracy: 0.9729 - 25s/epoch - 119ms/step\n",
      "Epoch 21/100\n",
      "209/209 - 25s - loss: 0.0707 - accuracy: 0.9757 - 25s/epoch - 120ms/step\n",
      "Epoch 22/100\n",
      "209/209 - 25s - loss: 0.0693 - accuracy: 0.9780 - 25s/epoch - 120ms/step\n",
      "Epoch 23/100\n",
      "209/209 - 25s - loss: 0.0702 - accuracy: 0.9760 - 25s/epoch - 120ms/step\n",
      "Epoch 24/100\n",
      "209/209 - 25s - loss: 0.0649 - accuracy: 0.9771 - 25s/epoch - 119ms/step\n",
      "Epoch 25/100\n",
      "209/209 - 25s - loss: 0.0601 - accuracy: 0.9799 - 25s/epoch - 120ms/step\n",
      "Epoch 26/100\n",
      "209/209 - 25s - loss: 0.0554 - accuracy: 0.9814 - 25s/epoch - 119ms/step\n",
      "Epoch 27/100\n",
      "209/209 - 25s - loss: 0.0585 - accuracy: 0.9804 - 25s/epoch - 120ms/step\n",
      "Epoch 28/100\n",
      "209/209 - 25s - loss: 0.0493 - accuracy: 0.9820 - 25s/epoch - 121ms/step\n",
      "Epoch 29/100\n",
      "209/209 - 25s - loss: 0.0479 - accuracy: 0.9817 - 25s/epoch - 120ms/step\n",
      "Epoch 30/100\n",
      "209/209 - 25s - loss: 0.0516 - accuracy: 0.9816 - 25s/epoch - 120ms/step\n",
      "Epoch 31/100\n",
      "209/209 - 25s - loss: 0.0520 - accuracy: 0.9823 - 25s/epoch - 120ms/step\n",
      "Epoch 32/100\n",
      "209/209 - 25s - loss: 0.0443 - accuracy: 0.9849 - 25s/epoch - 120ms/step\n",
      "Epoch 33/100\n",
      "209/209 - 25s - loss: 0.0411 - accuracy: 0.9856 - 25s/epoch - 120ms/step\n",
      "Epoch 34/100\n",
      "209/209 - 25s - loss: 0.0415 - accuracy: 0.9864 - 25s/epoch - 120ms/step\n",
      "Epoch 35/100\n",
      "209/209 - 25s - loss: 0.0409 - accuracy: 0.9837 - 25s/epoch - 120ms/step\n",
      "Epoch 36/100\n",
      "209/209 - 25s - loss: 0.0418 - accuracy: 0.9861 - 25s/epoch - 120ms/step\n",
      "Epoch 37/100\n",
      "209/209 - 25s - loss: 0.0410 - accuracy: 0.9846 - 25s/epoch - 120ms/step\n",
      "Epoch 38/100\n",
      "209/209 - 25s - loss: 0.0360 - accuracy: 0.9873 - 25s/epoch - 120ms/step\n",
      "Epoch 39/100\n",
      "209/209 - 25s - loss: 0.0371 - accuracy: 0.9868 - 25s/epoch - 120ms/step\n",
      "Epoch 40/100\n",
      "209/209 - 25s - loss: 0.0357 - accuracy: 0.9867 - 25s/epoch - 121ms/step\n",
      "Epoch 41/100\n",
      "209/209 - 25s - loss: 0.0386 - accuracy: 0.9874 - 25s/epoch - 120ms/step\n",
      "Epoch 42/100\n",
      "209/209 - 25s - loss: 0.0318 - accuracy: 0.9877 - 25s/epoch - 121ms/step\n",
      "Epoch 43/100\n",
      "209/209 - 25s - loss: 0.0294 - accuracy: 0.9891 - 25s/epoch - 121ms/step\n",
      "Epoch 44/100\n",
      "209/209 - 25s - loss: 0.0314 - accuracy: 0.9889 - 25s/epoch - 121ms/step\n",
      "Epoch 45/100\n",
      "209/209 - 25s - loss: 0.0285 - accuracy: 0.9895 - 25s/epoch - 121ms/step\n",
      "Epoch 46/100\n",
      "209/209 - 25s - loss: 0.0325 - accuracy: 0.9876 - 25s/epoch - 121ms/step\n",
      "Epoch 47/100\n",
      "209/209 - 25s - loss: 0.0319 - accuracy: 0.9882 - 25s/epoch - 121ms/step\n",
      "Epoch 48/100\n",
      "209/209 - 25s - loss: 0.0313 - accuracy: 0.9892 - 25s/epoch - 121ms/step\n",
      "Epoch 49/100\n",
      "209/209 - 25s - loss: 0.0349 - accuracy: 0.9865 - 25s/epoch - 121ms/step\n",
      "Epoch 50/100\n",
      "209/209 - 25s - loss: 0.0365 - accuracy: 0.9870 - 25s/epoch - 121ms/step\n",
      "Epoch 51/100\n",
      "209/209 - 25s - loss: 0.0292 - accuracy: 0.9886 - 25s/epoch - 121ms/step\n",
      "Epoch 52/100\n",
      "209/209 - 25s - loss: 0.0277 - accuracy: 0.9898 - 25s/epoch - 121ms/step\n",
      "Epoch 53/100\n",
      "209/209 - 25s - loss: 0.0258 - accuracy: 0.9901 - 25s/epoch - 121ms/step\n",
      "Epoch 54/100\n",
      "209/209 - 25s - loss: 0.0228 - accuracy: 0.9912 - 25s/epoch - 121ms/step\n",
      "Epoch 55/100\n",
      "209/209 - 25s - loss: 0.0376 - accuracy: 0.9864 - 25s/epoch - 121ms/step\n",
      "Epoch 56/100\n",
      "209/209 - 25s - loss: 0.0266 - accuracy: 0.9913 - 25s/epoch - 121ms/step\n",
      "Epoch 57/100\n",
      "209/209 - 25s - loss: 0.0250 - accuracy: 0.9898 - 25s/epoch - 121ms/step\n",
      "Epoch 58/100\n",
      "209/209 - 25s - loss: 0.0252 - accuracy: 0.9915 - 25s/epoch - 122ms/step\n",
      "Epoch 59/100\n",
      "209/209 - 26s - loss: 0.0235 - accuracy: 0.9915 - 26s/epoch - 122ms/step\n",
      "Epoch 60/100\n",
      "209/209 - 25s - loss: 0.0224 - accuracy: 0.9910 - 25s/epoch - 122ms/step\n",
      "Epoch 61/100\n",
      "209/209 - 25s - loss: 0.0248 - accuracy: 0.9892 - 25s/epoch - 121ms/step\n",
      "Epoch 62/100\n",
      "209/209 - 25s - loss: 0.0231 - accuracy: 0.9921 - 25s/epoch - 121ms/step\n",
      "Epoch 63/100\n",
      "209/209 - 25s - loss: 0.0215 - accuracy: 0.9925 - 25s/epoch - 121ms/step\n",
      "Epoch 64/100\n",
      "209/209 - 25s - loss: 0.0373 - accuracy: 0.9880 - 25s/epoch - 121ms/step\n",
      "Epoch 65/100\n",
      "209/209 - 25s - loss: 0.0215 - accuracy: 0.9909 - 25s/epoch - 121ms/step\n",
      "Epoch 66/100\n",
      "209/209 - 25s - loss: 0.0207 - accuracy: 0.9924 - 25s/epoch - 121ms/step\n",
      "Epoch 67/100\n",
      "209/209 - 25s - loss: 0.0196 - accuracy: 0.9913 - 25s/epoch - 121ms/step\n",
      "Epoch 68/100\n",
      "209/209 - 25s - loss: 0.0178 - accuracy: 0.9928 - 25s/epoch - 121ms/step\n",
      "Epoch 69/100\n",
      "209/209 - 25s - loss: 0.0232 - accuracy: 0.9912 - 25s/epoch - 121ms/step\n",
      "Epoch 70/100\n",
      "209/209 - 25s - loss: 0.0271 - accuracy: 0.9903 - 25s/epoch - 121ms/step\n",
      "Epoch 71/100\n",
      "209/209 - 25s - loss: 0.0215 - accuracy: 0.9927 - 25s/epoch - 121ms/step\n",
      "Epoch 72/100\n",
      "209/209 - 25s - loss: 0.0235 - accuracy: 0.9907 - 25s/epoch - 121ms/step\n",
      "Epoch 73/100\n",
      "209/209 - 25s - loss: 0.0206 - accuracy: 0.9919 - 25s/epoch - 121ms/step\n",
      "Epoch 74/100\n",
      "209/209 - 25s - loss: 0.0225 - accuracy: 0.9916 - 25s/epoch - 121ms/step\n",
      "Epoch 75/100\n",
      "209/209 - 25s - loss: 0.0192 - accuracy: 0.9928 - 25s/epoch - 121ms/step\n",
      "Epoch 76/100\n",
      "209/209 - 25s - loss: 0.0170 - accuracy: 0.9933 - 25s/epoch - 122ms/step\n",
      "Epoch 77/100\n",
      "209/209 - 25s - loss: 0.0175 - accuracy: 0.9933 - 25s/epoch - 121ms/step\n",
      "Epoch 78/100\n",
      "209/209 - 26s - loss: 0.0193 - accuracy: 0.9925 - 26s/epoch - 122ms/step\n",
      "Epoch 79/100\n",
      "209/209 - 25s - loss: 0.0183 - accuracy: 0.9924 - 25s/epoch - 122ms/step\n",
      "Epoch 80/100\n",
      "209/209 - 25s - loss: 0.0216 - accuracy: 0.9921 - 25s/epoch - 121ms/step\n",
      "Epoch 81/100\n",
      "209/209 - 25s - loss: 0.0180 - accuracy: 0.9924 - 25s/epoch - 122ms/step\n",
      "Epoch 82/100\n",
      "209/209 - 25s - loss: 0.0252 - accuracy: 0.9921 - 25s/epoch - 122ms/step\n",
      "Epoch 83/100\n",
      "209/209 - 26s - loss: 0.0176 - accuracy: 0.9933 - 26s/epoch - 122ms/step\n",
      "Epoch 84/100\n",
      "209/209 - 25s - loss: 0.0185 - accuracy: 0.9925 - 25s/epoch - 122ms/step\n",
      "Epoch 85/100\n",
      "209/209 - 26s - loss: 0.0245 - accuracy: 0.9915 - 26s/epoch - 122ms/step\n",
      "Epoch 86/100\n",
      "209/209 - 25s - loss: 0.0170 - accuracy: 0.9927 - 25s/epoch - 122ms/step\n",
      "Epoch 87/100\n",
      "209/209 - 26s - loss: 0.0166 - accuracy: 0.9937 - 26s/epoch - 122ms/step\n",
      "Epoch 88/100\n",
      "209/209 - 25s - loss: 0.0202 - accuracy: 0.9921 - 25s/epoch - 122ms/step\n",
      "Epoch 89/100\n",
      "209/209 - 25s - loss: 0.0156 - accuracy: 0.9940 - 25s/epoch - 122ms/step\n",
      "Epoch 90/100\n",
      "209/209 - 25s - loss: 0.0158 - accuracy: 0.9936 - 25s/epoch - 121ms/step\n",
      "Epoch 91/100\n",
      "209/209 - 26s - loss: 0.0160 - accuracy: 0.9934 - 26s/epoch - 122ms/step\n",
      "Epoch 92/100\n",
      "209/209 - 26s - loss: 0.0250 - accuracy: 0.9910 - 26s/epoch - 122ms/step\n",
      "Epoch 93/100\n",
      "209/209 - 25s - loss: 0.0234 - accuracy: 0.9907 - 25s/epoch - 122ms/step\n",
      "Epoch 94/100\n",
      "209/209 - 26s - loss: 0.0173 - accuracy: 0.9928 - 26s/epoch - 123ms/step\n",
      "Epoch 95/100\n",
      "209/209 - 26s - loss: 0.0160 - accuracy: 0.9931 - 26s/epoch - 122ms/step\n",
      "Epoch 96/100\n",
      "209/209 - 26s - loss: 0.0175 - accuracy: 0.9934 - 26s/epoch - 122ms/step\n",
      "Epoch 97/100\n",
      "209/209 - 26s - loss: 0.0144 - accuracy: 0.9939 - 26s/epoch - 122ms/step\n",
      "Epoch 98/100\n",
      "209/209 - 25s - loss: 0.0171 - accuracy: 0.9922 - 25s/epoch - 122ms/step\n",
      "Epoch 99/100\n",
      "209/209 - 26s - loss: 0.0145 - accuracy: 0.9937 - 26s/epoch - 123ms/step\n",
      "Epoch 100/100\n",
      "209/209 - 26s - loss: 0.0214 - accuracy: 0.9901 - 26s/epoch - 123ms/step\n",
      "Test Accuracy: 70.461357\n",
      "Test loss: 2.649911\n"
     ]
    }
   ],
   "source": [
    "model.compile(loss='categorical_crossentropy', optimizer='adam', metrics=['accuracy'])\n",
    "# Fitting Network\n",
    "m = model.fit(encode_train_text, encode_train_tag, epochs=100, verbose=2)\n",
    "# Evaluating Network\n",
    "loss, acc = model.evaluate(encode_test_text, encode_test_tag, verbose=0)\n",
    "print('Test Accuracy: %f' % (acc * 100))\n",
    "print('Test loss: %f' % loss)\n",
    "# !khashm, khonsa, shadi, gham of 1e4 51%"
   ],
   "metadata": {
    "collapsed": false,
    "pycharm": {
     "name": "#%%\n"
    }
   }
  },
  {
   "cell_type": "code",
   "execution_count": 13,
   "outputs": [
    {
     "name": "stdout",
     "output_type": "stream",
     "text": [
      "INFO:tensorflow:Assets written to: ram://7301ea02-e95e-4f5a-9f87-9e3c50b42168/assets\n"
     ]
    },
    {
     "name": "stderr",
     "output_type": "stream",
     "text": [
      "WARNING:absl:<keras.layers.recurrent.LSTMCell object at 0x0000024DB561E978> has the same name 'LSTMCell' as a built-in Keras object. Consider renaming <class 'keras.layers.recurrent.LSTMCell'> to avoid naming conflicts when loading with `tf.keras.models.load_model`. If renaming is not possible, pass the object in the `custom_objects` parameter of the load function.\n",
      "WARNING:absl:<keras.layers.recurrent.LSTMCell object at 0x0000024DB62C13C8> has the same name 'LSTMCell' as a built-in Keras object. Consider renaming <class 'keras.layers.recurrent.LSTMCell'> to avoid naming conflicts when loading with `tf.keras.models.load_model`. If renaming is not possible, pass the object in the `custom_objects` parameter of the load function.\n"
     ]
    },
    {
     "data": {
      "text/plain": "['BiLSTM_3_model.joblib']"
     },
     "execution_count": 13,
     "metadata": {},
     "output_type": "execute_result"
    }
   ],
   "source": [
    "with open('BiLSTM_3_tokenizer.pickle', 'wb') as handle:\n",
    "    pickle.dump(tokenizer, handle, protocol=pickle.HIGHEST_PROTOCOL)\n",
    "\n",
    "# # # loading\n",
    "# # with open('BiLSTM_3_tokenizer.pickle', 'rb') as handle:\n",
    "# #     tokenizer = pickle.load(handle)\n",
    "joblib.dump(model, 'BiLSTM_3_model.joblib')\n"
   ],
   "metadata": {
    "collapsed": false,
    "pycharm": {
     "name": "#%% save model\n"
    }
   }
  },
  {
   "cell_type": "code",
   "execution_count": 14,
   "outputs": [],
   "source": [
    "# test_df = pd.DataFrame()\n",
    "# test_df['train_text'] = train_text\n",
    "# test_df['tag_text'] = train_tag\n",
    "# test_df['encode_train_tag'] = encode_train_tag.tolist()\n",
    "# test_df.to_excel('test2_df.xlsx', index=False)"
   ],
   "metadata": {
    "collapsed": false,
    "pycharm": {
     "name": "#%% Evaluate test file\n"
    }
   }
  },
  {
   "cell_type": "code",
   "execution_count": 15,
   "outputs": [],
   "source": [
    "# tmp_df = pd.DataFrame()\n",
    "# comment = train_text\n",
    "# tmp_df['tmp_caption']=comment\n",
    "# print(tmp_df)\n",
    "# tmp_call_cleantext = CleanText(tmp_df, 'tmp_caption')\n",
    "# tmp_get_ex_emoji = tmp_call_cleantext.extract_emojis()\n",
    "# print(tmp_get_ex_emoji)\n",
    "# tmp_get_emoji_list = tmp_call_cleantext.convert_emojies()\n",
    "# tmp_get_norm_list = tmp_call_cleantext.normalize_text()\n",
    "# print(tmp_get_norm_list)\n",
    "#\n",
    "# list_a = []\n",
    "# i = 0\n",
    "# for item in tmp_get_norm_list:\n",
    "#     i += 1\n",
    "#     # print(i)\n",
    "#     comment_list = item\n",
    "#     instance = tokenizer.texts_to_sequences(comment_list)\n",
    "#     flat_list = []\n",
    "#     for sublist in instance:\n",
    "#         for item in sublist:\n",
    "#             flat_list.append(item)\n",
    "#\n",
    "#     flat_list = [flat_list]\n",
    "#\n",
    "#     instance = pad_sequences(flat_list, padding='post', maxlen=max_len)\n",
    "#\n",
    "#     output = model.predict(instance)\n",
    "#     list_a.append(output)\n",
    "# # print(list_a)\n",
    "# train_df = pd.DataFrame()\n",
    "# train_df['train_text'] = train_text\n",
    "# train_df['tag_text'] = train_tag\n",
    "# train_df['encode_train_tag'] = encode_train_tag.tolist()\n",
    "# train_df['my_model'] = list_a\n",
    "# train_df.to_excel('train2_df.xlsx', index=False)"
   ],
   "metadata": {
    "collapsed": false,
    "pycharm": {
     "name": "#%% Evaluate train file\n"
    }
   }
  },
  {
   "cell_type": "code",
   "execution_count": 16,
   "outputs": [],
   "source": [
    "# df = pd.read_excel('train2_df.xlsx')\n",
    "# list_b = df['my_model']\n",
    "# list_c = list(map(lambda x: list(x[2:-2].split(\" \")), list_b))\n",
    "# list_c = list(map(lambda x: list(filter(None, x)), list_c))\n",
    "#\n",
    "# list_d = list(map(lambda x: [re.sub('\\n','', i) for i in x], list_c))\n",
    "#\n",
    "# list_e = list(map(lambda x: [float(i) for i in x], list_d))\n",
    "# list_f = list(map(lambda x: x.index(max(x)), list_e))\n",
    "# train_df['my_model2'] = list_f\n",
    "# train_df.to_excel('train2_df.xlsx', index=False)\n"
   ],
   "metadata": {
    "collapsed": false,
    "pycharm": {
     "name": "#%%\n"
    }
   }
  }
 ],
 "metadata": {
  "kernelspec": {
   "name": "python3",
   "language": "python",
   "display_name": "Python 3 (ipykernel)"
  },
  "language_info": {
   "codemirror_mode": {
    "name": "ipython",
    "version": 2
   },
   "file_extension": ".py",
   "mimetype": "text/x-python",
   "name": "python",
   "nbconvert_exporter": "python",
   "pygments_lexer": "ipython2",
   "version": "2.7.6"
  }
 },
 "nbformat": 4,
 "nbformat_minor": 0
}